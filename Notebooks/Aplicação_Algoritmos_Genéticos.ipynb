{
  "nbformat": 4,
  "nbformat_minor": 0,
  "metadata": {
    "colab": {
      "name": "Aplicação Algoritmos Genéticos.ipynb",
      "provenance": [],
      "collapsed_sections": [],
      "authorship_tag": "ABX9TyP2tdXZP5M3vQ2lZKC5kh1x",
      "include_colab_link": true
    },
    "kernelspec": {
      "name": "python3",
      "display_name": "Python 3"
    },
    "language_info": {
      "name": "python"
    }
  },
  "cells": [
    {
      "cell_type": "markdown",
      "metadata": {
        "id": "view-in-github",
        "colab_type": "text"
      },
      "source": [
        "<a href=\"https://colab.research.google.com/github/calebebrim/algoritmo-genetico/blob/master/Notebooks/Aplica%C3%A7%C3%A3o_Algoritmos_Gen%C3%A9ticos.ipynb\" target=\"_parent\"><img src=\"https://colab.research.google.com/assets/colab-badge.svg\" alt=\"Open In Colab\"/></a>"
      ]
    },
    {
      "cell_type": "markdown",
      "source": [
        "# Instalando Ambiente\n",
        "criado a aplicação\n",
        "\n"
      ],
      "metadata": {
        "id": "91Qgmy1F1umL"
      }
    },
    {
      "cell_type": "code",
      "execution_count": 83,
      "metadata": {
        "colab": {
          "base_uri": "https://localhost:8080/"
        },
        "id": "42nOLuBLmCj6",
        "outputId": "e1fa4f55-f200-47c6-c88f-599abb4ff363"
      },
      "outputs": [
        {
          "output_type": "stream",
          "name": "stdout",
          "text": [
            "Cloning into 'geneticalgorithm'...\n",
            "remote: Enumerating objects: 138, done.\u001b[K\n",
            "remote: Counting objects:   4% (1/22)\u001b[K\rremote: Counting objects:   9% (2/22)\u001b[K\rremote: Counting objects:  13% (3/22)\u001b[K\rremote: Counting objects:  18% (4/22)\u001b[K\rremote: Counting objects:  22% (5/22)\u001b[K\rremote: Counting objects:  27% (6/22)\u001b[K\rremote: Counting objects:  31% (7/22)\u001b[K\rremote: Counting objects:  36% (8/22)\u001b[K\rremote: Counting objects:  40% (9/22)\u001b[K\rremote: Counting objects:  45% (10/22)\u001b[K\rremote: Counting objects:  50% (11/22)\u001b[K\rremote: Counting objects:  54% (12/22)\u001b[K\rremote: Counting objects:  59% (13/22)\u001b[K\rremote: Counting objects:  63% (14/22)\u001b[K\rremote: Counting objects:  68% (15/22)\u001b[K\rremote: Counting objects:  72% (16/22)\u001b[K\rremote: Counting objects:  77% (17/22)\u001b[K\rremote: Counting objects:  81% (18/22)\u001b[K\rremote: Counting objects:  86% (19/22)\u001b[K\rremote: Counting objects:  90% (20/22)\u001b[K\rremote: Counting objects:  95% (21/22)\u001b[K\rremote: Counting objects: 100% (22/22)\u001b[K\rremote: Counting objects: 100% (22/22), done.\u001b[K\n",
            "remote: Compressing objects:   5% (1/17)\u001b[K\rremote: Compressing objects:  11% (2/17)\u001b[K\rremote: Compressing objects:  17% (3/17)\u001b[K\rremote: Compressing objects:  23% (4/17)\u001b[K\rremote: Compressing objects:  29% (5/17)\u001b[K\rremote: Compressing objects:  35% (6/17)\u001b[K\rremote: Compressing objects:  41% (7/17)\u001b[K\rremote: Compressing objects:  47% (8/17)\u001b[K\rremote: Compressing objects:  52% (9/17)\u001b[K\rremote: Compressing objects:  58% (10/17)\u001b[K\rremote: Compressing objects:  64% (11/17)\u001b[K\rremote: Compressing objects:  70% (12/17)\u001b[K\rremote: Compressing objects:  76% (13/17)\u001b[K\rremote: Compressing objects:  82% (14/17)\u001b[K\rremote: Compressing objects:  88% (15/17)\u001b[K\rremote: Compressing objects:  94% (16/17)\u001b[K\rremote: Compressing objects: 100% (17/17)\u001b[K\rremote: Compressing objects: 100% (17/17), done.\u001b[K\n",
            "Receiving objects:   0% (1/138)   \rReceiving objects:   1% (2/138)   \rReceiving objects:   2% (3/138)   \rReceiving objects:   3% (5/138)   \rReceiving objects:   4% (6/138)   \rReceiving objects:   5% (7/138)   \rReceiving objects:   6% (9/138)   \rReceiving objects:   7% (10/138)   \rReceiving objects:   8% (12/138)   \rReceiving objects:   9% (13/138)   \rReceiving objects:  10% (14/138)   \rReceiving objects:  11% (16/138)   \rReceiving objects:  12% (17/138)   \rReceiving objects:  13% (18/138)   \rReceiving objects:  14% (20/138)   \rReceiving objects:  15% (21/138)   \rReceiving objects:  16% (23/138)   \rReceiving objects:  17% (24/138)   \rReceiving objects:  18% (25/138)   \rReceiving objects:  19% (27/138)   \rReceiving objects:  20% (28/138)   \rReceiving objects:  21% (29/138)   \rReceiving objects:  22% (31/138)   \rReceiving objects:  23% (32/138)   \rReceiving objects:  24% (34/138)   \rReceiving objects:  25% (35/138)   \rReceiving objects:  26% (36/138)   \rReceiving objects:  27% (38/138)   \rReceiving objects:  28% (39/138)   \rReceiving objects:  29% (41/138)   \rReceiving objects:  30% (42/138)   \rReceiving objects:  31% (43/138)   \rReceiving objects:  32% (45/138)   \rReceiving objects:  33% (46/138)   \rReceiving objects:  34% (47/138)   \rReceiving objects:  35% (49/138)   \rReceiving objects:  36% (50/138)   \rReceiving objects:  37% (52/138)   \rReceiving objects:  38% (53/138)   \rReceiving objects:  39% (54/138)   \rReceiving objects:  40% (56/138)   \rReceiving objects:  41% (57/138)   \rReceiving objects:  42% (58/138)   \rReceiving objects:  43% (60/138)   \rReceiving objects:  44% (61/138)   \rReceiving objects:  45% (63/138)   \rReceiving objects:  46% (64/138)   \rReceiving objects:  47% (65/138)   \rReceiving objects:  48% (67/138)   \rReceiving objects:  49% (68/138)   \rReceiving objects:  50% (69/138)   \rReceiving objects:  51% (71/138)   \rReceiving objects:  52% (72/138)   \rReceiving objects:  53% (74/138)   \rReceiving objects:  54% (75/138)   \rReceiving objects:  55% (76/138)   \rReceiving objects:  56% (78/138)   \rReceiving objects:  57% (79/138)   \rReceiving objects:  58% (81/138)   \rReceiving objects:  59% (82/138)   \rReceiving objects:  60% (83/138)   \rReceiving objects:  61% (85/138)   \rReceiving objects:  62% (86/138)   \rremote: Total 138 (delta 4), reused 15 (delta 3), pack-reused 116\u001b[K\n",
            "Receiving objects:  63% (87/138)   \rReceiving objects:  64% (89/138)   \rReceiving objects:  65% (90/138)   \rReceiving objects:  66% (92/138)   \rReceiving objects:  67% (93/138)   \rReceiving objects:  68% (94/138)   \rReceiving objects:  69% (96/138)   \rReceiving objects:  70% (97/138)   \rReceiving objects:  71% (98/138)   \rReceiving objects:  72% (100/138)   \rReceiving objects:  73% (101/138)   \rReceiving objects:  74% (103/138)   \rReceiving objects:  75% (104/138)   \rReceiving objects:  76% (105/138)   \rReceiving objects:  77% (107/138)   \rReceiving objects:  78% (108/138)   \rReceiving objects:  79% (110/138)   \rReceiving objects:  80% (111/138)   \rReceiving objects:  81% (112/138)   \rReceiving objects:  82% (114/138)   \rReceiving objects:  83% (115/138)   \rReceiving objects:  84% (116/138)   \rReceiving objects:  85% (118/138)   \rReceiving objects:  86% (119/138)   \rReceiving objects:  87% (121/138)   \rReceiving objects:  88% (122/138)   \rReceiving objects:  89% (123/138)   \rReceiving objects:  90% (125/138)   \rReceiving objects:  91% (126/138)   \rReceiving objects:  92% (127/138)   \rReceiving objects:  93% (129/138)   \rReceiving objects:  94% (130/138)   \rReceiving objects:  95% (132/138)   \rReceiving objects:  96% (133/138)   \rReceiving objects:  97% (134/138)   \rReceiving objects:  98% (136/138)   \rReceiving objects:  99% (137/138)   \rReceiving objects: 100% (138/138)   \rReceiving objects: 100% (138/138), 108.48 KiB | 4.93 MiB/s, done.\n",
            "Resolving deltas:   0% (0/38)   \rResolving deltas:   7% (3/38)   \rResolving deltas:  13% (5/38)   \rResolving deltas:  18% (7/38)   \rResolving deltas:  26% (10/38)   \rResolving deltas:  28% (11/38)   \rResolving deltas:  34% (13/38)   \rResolving deltas:  44% (17/38)   \rResolving deltas:  47% (18/38)   \rResolving deltas:  57% (22/38)   \rResolving deltas:  63% (24/38)   \rResolving deltas:  65% (25/38)   \rResolving deltas:  76% (29/38)   \rResolving deltas:  78% (30/38)   \rResolving deltas:  84% (32/38)   \rResolving deltas:  86% (33/38)   \rResolving deltas:  89% (34/38)   \rResolving deltas:  97% (37/38)   \rResolving deltas: 100% (38/38)   \rResolving deltas: 100% (38/38), done.\n"
          ]
        }
      ],
      "source": [
        "!git clone https://github.com/calebebrim/geneticalgorithm.git"
      ]
    },
    {
      "cell_type": "markdown",
      "source": [
        "Alterando a pasta raiz\n"
      ],
      "metadata": {
        "id": "2spT54Cp2Fgx"
      }
    },
    {
      "cell_type": "code",
      "source": [
        "%cd /content/geneticalgorithm\n",
        "!ls"
      ],
      "metadata": {
        "colab": {
          "base_uri": "https://localhost:8080/"
        },
        "id": "57aODOivzv7x",
        "outputId": "76b031b9-210d-497e-9567-62badfae5156"
      },
      "execution_count": 84,
      "outputs": [
        {
          "output_type": "stream",
          "name": "stdout",
          "text": [
            "/content/geneticalgorithm\n",
            "dist\t\t  geneticalgorithm.py  LICENCE\t Notebooks  setup.py\n",
            "geneticalgorithm  __init__.py\t       Makefile  README.md  src\n"
          ]
        }
      ]
    },
    {
      "cell_type": "markdown",
      "source": [
        "# Executando os exemplos"
      ],
      "metadata": {
        "id": "YaJdHWpS1tq1"
      }
    },
    {
      "cell_type": "markdown",
      "source": [
        "Minimization: \n",
        "\n",
        "$e =$ number count\n",
        "$e =$ number count\n",
        "\n",
        "$F(e) = min(\\sum_{i=0}^e(n_i))$\n",
        "\n",
        "having\n",
        "\n",
        "$(n_i 𝛜 𝓝 | n<=10)$  \n"
      ],
      "metadata": {
        "id": "oUCYrG8Q2cfl"
      }
    },
    {
      "cell_type": "code",
      "source": [
        "!make minimization"
      ],
      "metadata": {
        "colab": {
          "base_uri": "https://localhost:8080/"
        },
        "id": "v6nFX6ZLz_S2",
        "outputId": "65b55936-df41-415a-d346-0e4c37e5d2f3"
      },
      "execution_count": 85,
      "outputs": [
        {
          "output_type": "stream",
          "name": "stdout",
          "text": [
            "python -m src.examples.sum_minimization\n",
            "nbits: 4\n",
            "Generating Population With: \n",
            "\t- Gene Size: 8\n",
            "\t- Population Size: 10\n",
            "\t- Population Type: <class 'bool'>\n",
            "\t- Generations: 1000\n",
            "\t- Generations for each ephoch: 100\n",
            "\t- Selection Count: 10\n",
            "            \n",
            "================(Epoch: 1 Generation: 100)=======================\n",
            "{'max': 22, 'min': 4, 'avg': 13.6}\n",
            "Best:  0\n",
            "================(Epoch: 1 Generation: 100)=======================\n",
            "================(Epoch: 2 Generation: 200)=======================\n",
            "{'max': 28, 'min': 10, 'avg': 18.4}\n",
            "Best:  0\n",
            "================(Epoch: 2 Generation: 200)=======================\n",
            "================(Epoch: 3 Generation: 300)=======================\n",
            "{'max': 28, 'min': 3, 'avg': 11.9}\n",
            "Best:  0\n",
            "================(Epoch: 3 Generation: 300)=======================\n",
            "================(Epoch: 4 Generation: 400)=======================\n",
            "{'max': 26, 'min': 6, 'avg': 16.2}\n",
            "Best:  0\n",
            "================(Epoch: 4 Generation: 400)=======================\n",
            "================(Epoch: 5 Generation: 500)=======================\n",
            "{'max': 21, 'min': 11, 'avg': 14.9}\n",
            "Best:  0\n",
            "================(Epoch: 5 Generation: 500)=======================\n",
            "================(Epoch: 6 Generation: 600)=======================\n",
            "{'max': 23, 'min': 2, 'avg': 12.7}\n",
            "Best:  0\n",
            "================(Epoch: 6 Generation: 600)=======================\n",
            "================(Epoch: 7 Generation: 700)=======================\n",
            "{'max': 21, 'min': 4, 'avg': 13.2}\n",
            "Best:  0\n",
            "================(Epoch: 7 Generation: 700)=======================\n",
            "================(Epoch: 8 Generation: 800)=======================\n",
            "{'max': 29, 'min': 1, 'avg': 16.0}\n",
            "Best:  0\n",
            "================(Epoch: 8 Generation: 800)=======================\n",
            "================(Epoch: 9 Generation: 900)=======================\n",
            "{'max': 25, 'min': 7, 'avg': 14.0}\n",
            "Best:  0\n",
            "================(Epoch: 9 Generation: 900)=======================\n",
            "================(Epoch: 10 Generation: 1000)=======================\n",
            "{'max': 26, 'min': 8, 'avg': 16.1}\n",
            "Best:  0\n",
            "================(Epoch: 10 Generation: 1000)=======================\n",
            "BEST:  [False False False False False False False False]\n",
            "==========Evaluation=============\n",
            "Achieved:  [0] Expected: 0\n"
          ]
        }
      ]
    },
    {
      "cell_type": "code",
      "source": [
        "!make maximization"
      ],
      "metadata": {
        "colab": {
          "base_uri": "https://localhost:8080/"
        },
        "id": "rCXd7rxn3x92",
        "outputId": "01cb26df-5e06-47c8-9daa-e267de62e62c"
      },
      "execution_count": 86,
      "outputs": [
        {
          "output_type": "stream",
          "name": "stdout",
          "text": [
            "python -m src.examples.sum_maximization\n",
            "nbits: 5\n",
            "Generating Population With: \n",
            "\t- Gene Size: 10\n",
            "\t- Population Size: 20\n",
            "\t- Population Type: <class 'bool'>\n",
            "\t- Generations: 1000\n",
            "\t- Generations for each ephoch: 100\n",
            "\t- Selection Count: 10\n",
            "            \n",
            "================(Epoch: 1 Generation: 100)=======================\n",
            "{'max': 61, 'min': 14, 'avg': 38.6}\n",
            "Best:  62\n",
            "================(Epoch: 1 Generation: 100)=======================\n",
            "================(Epoch: 2 Generation: 200)=======================\n",
            "{'max': 55, 'min': 16, 'avg': 34.4}\n",
            "Best:  62\n",
            "================(Epoch: 2 Generation: 200)=======================\n",
            "================(Epoch: 3 Generation: 300)=======================\n",
            "{'max': 56, 'min': 4, 'avg': 31.9}\n",
            "Best:  62\n",
            "================(Epoch: 3 Generation: 300)=======================\n",
            "================(Epoch: 4 Generation: 400)=======================\n",
            "{'max': 53, 'min': 5, 'avg': 29.75}\n",
            "Best:  62\n",
            "================(Epoch: 4 Generation: 400)=======================\n",
            "================(Epoch: 5 Generation: 500)=======================\n",
            "{'max': 51, 'min': 4, 'avg': 30.45}\n",
            "Best:  62\n",
            "================(Epoch: 5 Generation: 500)=======================\n",
            "================(Epoch: 6 Generation: 600)=======================\n",
            "{'max': 45, 'min': 8, 'avg': 24.5}\n",
            "Best:  62\n",
            "================(Epoch: 6 Generation: 600)=======================\n",
            "================(Epoch: 7 Generation: 700)=======================\n",
            "{'max': 53, 'min': 6, 'avg': 29.0}\n",
            "Best:  62\n",
            "================(Epoch: 7 Generation: 700)=======================\n",
            "================(Epoch: 8 Generation: 800)=======================\n",
            "{'max': 56, 'min': 9, 'avg': 30.75}\n",
            "Best:  62\n",
            "================(Epoch: 8 Generation: 800)=======================\n",
            "================(Epoch: 9 Generation: 900)=======================\n",
            "{'max': 39, 'min': 0, 'avg': 25.3}\n",
            "Best:  62\n",
            "================(Epoch: 9 Generation: 900)=======================\n",
            "================(Epoch: 10 Generation: 1000)=======================\n",
            "{'max': 42, 'min': 1, 'avg': 20.55}\n",
            "Best:  62\n",
            "================(Epoch: 10 Generation: 1000)=======================\n",
            "BEST:  [ True  True  True  True  True  True  True  True  True  True]\n",
            "==========Evaluation=============\n",
            "Achieved:  [62] Expected: [62]\n"
          ]
        }
      ]
    },
    {
      "cell_type": "code",
      "source": [
        "!make skills"
      ],
      "metadata": {
        "colab": {
          "base_uri": "https://localhost:8080/"
        },
        "id": "QTKKAo3A-WjE",
        "outputId": "201607dc-bbe8-4500-d312-9d55ceb48212"
      },
      "execution_count": 87,
      "outputs": [
        {
          "output_type": "stream",
          "name": "stdout",
          "text": [
            "python -m src.examples.skills_optimization\n",
            "Generating Population With: \n",
            "\t- Gene Size: 6\n",
            "\t- Population Size: 10\n",
            "\t- Population Type: <class 'bool'>\n",
            "\t- Generations: 1000\n",
            "\t- Generations for each ephoch: 100\n",
            "\t- Selection Count: 10\n",
            "            \n",
            "================(Epoch: 1 Generation: 100)=======================\n",
            "{'max': 26, 'min': -988, 'avg': -378.3}\n",
            "Best:  26\n",
            "================(Epoch: 1 Generation: 100)=======================\n",
            "================(Epoch: 2 Generation: 200)=======================\n",
            "{'max': 26, 'min': -2964, 'avg': -574.9}\n",
            "Best:  26\n",
            "================(Epoch: 2 Generation: 200)=======================\n",
            "================(Epoch: 3 Generation: 300)=======================\n",
            "{'max': 23, 'min': -2976, 'avg': -480.2}\n",
            "Best:  26\n",
            "================(Epoch: 3 Generation: 300)=======================\n",
            "================(Epoch: 4 Generation: 400)=======================\n",
            "{'max': 23, 'min': -2976, 'avg': -878.6}\n",
            "Best:  26\n",
            "================(Epoch: 4 Generation: 400)=======================\n",
            "================(Epoch: 5 Generation: 500)=======================\n",
            "{'max': 26, 'min': -2982, 'avg': -680.7}\n",
            "Best:  26\n",
            "================(Epoch: 5 Generation: 500)=======================\n",
            "================(Epoch: 6 Generation: 600)=======================\n",
            "{'max': 23, 'min': -2976, 'avg': -981.2}\n",
            "Best:  26\n",
            "================(Epoch: 6 Generation: 600)=======================\n",
            "================(Epoch: 7 Generation: 700)=======================\n",
            "{'max': 26, 'min': -988, 'avg': -477.7}\n",
            "Best:  26\n",
            "================(Epoch: 7 Generation: 700)=======================\n",
            "================(Epoch: 8 Generation: 800)=======================\n",
            "{'max': 21, 'min': -2976, 'avg': -975.8}\n",
            "Best:  26\n",
            "================(Epoch: 8 Generation: 800)=======================\n",
            "================(Epoch: 9 Generation: 900)=======================\n",
            "{'max': 26, 'min': -982, 'avg': -379.8}\n",
            "Best:  26\n",
            "================(Epoch: 9 Generation: 900)=======================\n",
            "================(Epoch: 10 Generation: 1000)=======================\n",
            "{'max': 23, 'min': -986, 'avg': -578.2}\n",
            "Best:  26\n",
            "================(Epoch: 10 Generation: 1000)=======================\n",
            "BEST:  [False False False  True  True  True]\n",
            "==========Evaluation=============\n",
            "[10  5  3]\n"
          ]
        }
      ]
    },
    {
      "cell_type": "markdown",
      "source": [
        "# **O Problema: Caixeiro Viajante**\n",
        "\n",
        "\n",
        "Definição: O Caixeiro precisa passar por todas as cidades da rota utilizando o menor trajeto. \n",
        "\n",
        "Distâncias entre as cidades:\n",
        "\n",
        "    1->2 = 100\n",
        "    1->3 = 100\n",
        "    1->4 = 400\n",
        "    2->1 = 110\n",
        "    2->3 = 250\n",
        "    2->4 = 500\n",
        "    3->1 = 100\n",
        "    3->2 = 200\n",
        "    3->4 = 500\n",
        "    4->1 = 400\n",
        "    4->2 = 500\n",
        "    4->3 = 500\n",
        "\n",
        "O carteiro deve começar o seu trajeto a partir de uma das cidades. Caso não definido o algoritmo deverá selecionar a melhor cidade para iniciar  o trajeto.\n"
      ],
      "metadata": {
        "id": "xJGMbzcg89QP"
      }
    },
    {
      "cell_type": "markdown",
      "source": [
        "## Modelagem do Problema"
      ],
      "metadata": {
        "id": "NiO-JC9BCZBB"
      }
    },
    {
      "cell_type": "code",
      "source": [
        "#@title Modelagem do Problema { run: \"auto\", vertical-output: true, display-mode: \"form\" }\n",
        "\n",
        "import sys\n",
        "import numpy as np\n",
        "from src import GeneticAlgorithm\n",
        "from src.utils.binary_ops import bitsNeededToNumber\n",
        "from src.utils.binary_ops import bitsToBytes\n",
        "\n",
        "dist1_2 = 100 #@param {type:\"slider\", min:0, max:500, step:1}\n",
        "dist1_3 = 100 #@param {type:\"slider\", min:0, max:500, step:1}\n",
        "dist1_4 = 400 #@param {type:\"slider\", min:0, max:500, step:1}\n",
        "dist2_1 = 110 #@param {type:\"slider\", min:0, max:500, step:1}\n",
        "dist2_3 = 250 #@param {type:\"slider\", min:0, max:500, step:1}\n",
        "dist2_4 = 500 #@param {type:\"slider\", min:0, max:500, step:1}\n",
        "dist3_1 = 103 #@param {type:\"slider\", min:0, max:500, step:1}\n",
        "dist3_2 = 206 #@param {type:\"slider\", min:0, max:500, step:1}\n",
        "dist3_4 = 500 #@param {type:\"slider\", min:0, max:500, step:1}\n",
        "dist4_1 = 390 #@param {type:\"slider\", min:0, max:500, step:1}\n",
        "dist4_2 = 500 #@param {type:\"slider\", min:0, max:500, step:1}\n",
        "dist4_3 = 500 #@param {type:\"slider\", min:0, max:500, step:1}\n",
        "\n",
        "distancias = np.array([\n",
        "  [0,dist1_2,dist1_3,dist1_4],\n",
        "  [dist2_1,0,dist2_3,dist2_4],\n",
        "  [dist3_1,dist3_2,0,dist3_4],\n",
        "  [dist4_1,dist4_2,dist4_3,0]            \n",
        "])\n",
        "\n",
        "print(\"matriz de distancias:\\n\",distancias)\n"
      ],
      "metadata": {
        "colab": {
          "base_uri": "https://localhost:8080/"
        },
        "id": "cbUHcFKJC-xx",
        "outputId": "e1c576de-bd2e-4ab3-827c-bfdb7eae97f4"
      },
      "execution_count": 109,
      "outputs": [
        {
          "output_type": "stream",
          "name": "stdout",
          "text": [
            "matriz de distancias:\n",
            " [[  0 100 100 400]\n",
            " [110   0 250 500]\n",
            " [103 206   0 500]\n",
            " [390 500 500   0]]\n"
          ]
        }
      ]
    },
    {
      "cell_type": "code",
      "source": [
        "#@title Editando manualmente { run: \"auto\", vertical-output: true }\n",
        "\n",
        "city1 = 1 #@param [1, 2, 3, 4]\n",
        "city2 = 2 #@param [1, 2, 3, 4]\n",
        "city3 = 3 #@param [1, 2, 3, 4]\n",
        "city4 = 4 #@param [1, 2, 3, 4]\n",
        "\n",
        "def calculaDist(travel):\n",
        "  travel_tuple = np.concatenate((travel.T,np.roll(travel.T,-1)),axis=1)-1\n",
        "  travelDists = distancias[travel_tuple[:,0],travel_tuple[:,1]]\n",
        "  return np.sum(travelDists), travelDists\n",
        "\n",
        "\n",
        "\n",
        "travel = np.array([[city1,city2,city3,city4]], np.int32)\n",
        "dist, dists = calculaDist(travel)\n",
        "\n",
        "if np.unique(travel).size<4:\n",
        "  print(\"caminho incompleto\")\n",
        "else:\n",
        "  print(\"caminho:\",  \"->\".join(map(str,travel[0].tolist())))\n",
        "  print(\"distancias:\",  \"->\".join(map(str,dists.tolist())),\"=\",dist)\n"
      ],
      "metadata": {
        "colab": {
          "base_uri": "https://localhost:8080/"
        },
        "cellView": "form",
        "id": "_aU4JtQIJ3P-",
        "outputId": "349d5610-c23c-400e-b12d-72ce075bacd5"
      },
      "execution_count": 108,
      "outputs": [
        {
          "output_type": "stream",
          "name": "stdout",
          "text": [
            "caminho: 1->2->3->4\n",
            "distancias: 100->250->500->390 = 1240\n"
          ]
        }
      ]
    },
    {
      "cell_type": "code",
      "source": [
        "#"
      ],
      "metadata": {
        "id": "z3s8Lw0TD3lX"
      },
      "execution_count": null,
      "outputs": []
    },
    {
      "cell_type": "code",
      "source": [
        "n_city = 4\n",
        "\n",
        "\n",
        "def main():\n",
        "\n",
        "    gene_size = n_city*bitsNeededToNumber(n_city)\n",
        "    nbits = int(round(gene_size/n_city))\n",
        "\n",
        "\n",
        "    def fitness(gene):\n",
        "        one = bitsToBytes(gene[:, 0:nbits])\n",
        "        two = bitsToBytes(gene[:, nbits:])\n",
        "        score = np.sum([one, two], axis=0)\n",
        "\n",
        "        # print(one,two,score)\n",
        "        return score\n",
        "\n",
        "    print('nbits:', nbits)\n",
        "    expected = bitsToBytes(np.array([[True]*5])) + \\\n",
        "        bitsToBytes(np.array([[True]*5]))\n",
        "    # print('DesiredValue:', expected)\n",
        "\n",
        "    ga = GeneticAlgorithm.GA(gene_size, population_size=20,\n",
        "                             epochs=1000, ephoc_generations=100, maximization=True)\n",
        "\n",
        "    ga.debug = False\n",
        "    ga.verbose = True\n",
        "\n",
        "    best, pop, score = ga.run(fitness, multiple=True)\n",
        "    # print(score)\n",
        "\n",
        "    def evaluate(gene):\n",
        "        print('==========Evaluation=============')\n",
        "        one_bits = gene[:, 0:nbits]\n",
        "        # print(one_bits.shape)\n",
        "        one = bitsToBytes(one_bits)\n",
        "        two = bitsToBytes(gene[:, nbits:])\n",
        "        score = np.sum([one, two], axis=0)\n",
        "\n",
        "        # print(one,two,score)\n",
        "        print('Achieved: ', score, 'Expected:', expected)\n",
        "        \n",
        "        return score\n",
        "    print('BEST: ', best)\n",
        "    evaluate(np.array([best]))\n",
        "    # print(ga.history['statistics'])\n",
        "\n",
        "\n",
        "main()"
      ],
      "metadata": {
        "id": "Plz_NzPg8Yh8"
      },
      "execution_count": null,
      "outputs": []
    }
  ]
}